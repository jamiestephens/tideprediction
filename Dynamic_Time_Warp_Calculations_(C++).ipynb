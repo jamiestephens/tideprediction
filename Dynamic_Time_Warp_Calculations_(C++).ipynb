{
  "nbformat": 4,
  "nbformat_minor": 0,
  "metadata": {
    "colab": {
      "provenance": [],
      "machine_shape": "hm",
      "gpuType": "V100",
      "authorship_tag": "ABX9TyM42NiXGImx2tIGJyPfh/Pl",
      "include_colab_link": true
    },
    "kernelspec": {
      "name": "python3",
      "display_name": "Python 3"
    },
    "language_info": {
      "name": "python"
    }
  },
  "cells": [
    {
      "cell_type": "markdown",
      "metadata": {
        "id": "view-in-github",
        "colab_type": "text"
      },
      "source": [
        "<a href=\"https://colab.research.google.com/github/jstephens/tideprediction/blob/main/Dynamic_Time_Warp_Calculations_(C%2B%2B).ipynb\" target=\"_parent\"><img src=\"https://colab.research.google.com/assets/colab-badge.svg\" alt=\"Open In Colab\"/></a>"
      ]
    },
    {
      "cell_type": "markdown",
      "source": [
        "# C++ Environment Setup"
      ],
      "metadata": {
        "id": "iu8x8g-l4SVn"
      }
    },
    {
      "cell_type": "code",
      "execution_count": null,
      "metadata": {
        "colab": {
          "base_uri": "https://localhost:8080/"
        },
        "id": "JSwUvBVxUba2",
        "outputId": "92e3cf38-8af2-4a3d-fb17-339867f684fe"
      },
      "outputs": [
        {
          "output_type": "stream",
          "name": "stdout",
          "text": [
            "\u001b[33m\r0% [Working]\u001b[0m\r            \rGet:1 https://cloud.r-project.org/bin/linux/ubuntu focal-cran40/ InRelease [3,622 B]\n",
            "\u001b[33m\r0% [Waiting for headers] [Waiting for headers] [1 InRelease 0 B/3,622 B 0%] [Wa\u001b[0m\u001b[33m\r0% [Waiting for headers] [Waiting for headers] [Waiting for headers] [Waiting f\u001b[0m\r                                                                               \rHit:2 https://developer.download.nvidia.com/compute/cuda/repos/ubuntu2004/x86_64  InRelease\n",
            "\u001b[33m\r                                                                               \r0% [Waiting for headers] [Waiting for headers] [Waiting for headers]\u001b[0m\r                                                                    \rHit:3 http://archive.ubuntu.com/ubuntu focal InRelease\n",
            "\u001b[33m\r0% [Waiting for headers] [Waiting for headers] [Waiting for headers]\u001b[0m\r                                                                    \rHit:4 http://ppa.launchpad.net/c2d4u.team/c2d4u4.0+/ubuntu focal InRelease\n",
            "Get:5 http://security.ubuntu.com/ubuntu focal-security InRelease [114 kB]\n",
            "Get:6 http://archive.ubuntu.com/ubuntu focal-updates InRelease [114 kB]\n",
            "Hit:7 http://ppa.launchpad.net/cran/libgit2/ubuntu focal InRelease\n",
            "Hit:8 http://ppa.launchpad.net/deadsnakes/ppa/ubuntu focal InRelease\n",
            "Get:9 http://archive.ubuntu.com/ubuntu focal-backports InRelease [108 kB]\n",
            "Hit:10 http://ppa.launchpad.net/graphics-drivers/ppa/ubuntu focal InRelease\n",
            "Hit:11 http://ppa.launchpad.net/ubuntugis/ppa/ubuntu focal InRelease\n",
            "Get:12 http://security.ubuntu.com/ubuntu focal-security/main amd64 Packages [2,731 kB]\n",
            "Get:13 http://archive.ubuntu.com/ubuntu focal-updates/universe amd64 Packages [1,351 kB]\n",
            "Get:14 http://security.ubuntu.com/ubuntu focal-security/universe amd64 Packages [1,053 kB]\n",
            "Get:15 http://archive.ubuntu.com/ubuntu focal-updates/restricted amd64 Packages [2,449 kB]\n",
            "Get:16 http://security.ubuntu.com/ubuntu focal-security/restricted amd64 Packages [2,274 kB]\n",
            "Get:17 http://archive.ubuntu.com/ubuntu focal-updates/main amd64 Packages [3,226 kB]\n",
            "Fetched 13.4 MB in 2s (5,478 kB/s)\n",
            "Reading package lists... Done\n",
            "Building dependency tree       \n",
            "Reading state information... Done\n",
            "39 packages can be upgraded. Run 'apt list --upgradable' to see them.\n"
          ]
        }
      ],
      "source": [
        "!apt update"
      ]
    },
    {
      "cell_type": "code",
      "source": [
        "!apt install -y cmake\n",
        "!pip install dlib"
      ],
      "metadata": {
        "colab": {
          "base_uri": "https://localhost:8080/"
        },
        "id": "yj5-4OLCU6vO",
        "outputId": "85601a5f-f822-4d28-9caa-cd6edfb227bb"
      },
      "execution_count": null,
      "outputs": [
        {
          "output_type": "stream",
          "name": "stdout",
          "text": [
            "Reading package lists... Done\n",
            "Building dependency tree       \n",
            "Reading state information... Done\n",
            "cmake is already the newest version (3.16.3-1ubuntu1.20.04.1).\n",
            "0 upgraded, 0 newly installed, 0 to remove and 39 not upgraded.\n",
            "Looking in indexes: https://pypi.org/simple, https://us-python.pkg.dev/colab-wheels/public/simple/\n",
            "Requirement already satisfied: dlib in /usr/local/lib/python3.10/dist-packages (19.24.1)\n"
          ]
        }
      ]
    },
    {
      "cell_type": "code",
      "source": [
        "!apt-get install libeigen3-dev"
      ],
      "metadata": {
        "colab": {
          "base_uri": "https://localhost:8080/"
        },
        "id": "WwK4e4ABVIXq",
        "outputId": "ad1a8d47-b755-49db-fd56-879cabd58cf1"
      },
      "execution_count": null,
      "outputs": [
        {
          "output_type": "stream",
          "name": "stdout",
          "text": [
            "Reading package lists... Done\n",
            "Building dependency tree       \n",
            "Reading state information... Done\n",
            "Suggested packages:\n",
            "  libeigen3-doc libmpfrc++-dev\n",
            "The following NEW packages will be installed:\n",
            "  libeigen3-dev\n",
            "0 upgraded, 1 newly installed, 0 to remove and 39 not upgraded.\n",
            "Need to get 815 kB of archives.\n",
            "After this operation, 7,161 kB of additional disk space will be used.\n",
            "Get:1 http://archive.ubuntu.com/ubuntu focal/universe amd64 libeigen3-dev all 3.3.7-2 [815 kB]\n",
            "Fetched 815 kB in 1s (1,060 kB/s)\n",
            "Selecting previously unselected package libeigen3-dev.\n",
            "(Reading database ... 122545 files and directories currently installed.)\n",
            "Preparing to unpack .../libeigen3-dev_3.3.7-2_all.deb ...\n",
            "Unpacking libeigen3-dev (3.3.7-2) ...\n",
            "Setting up libeigen3-dev (3.3.7-2) ...\n"
          ]
        }
      ]
    },
    {
      "cell_type": "code",
      "source": [
        "!git clone https://github.com/rogersce/cnpy.git"
      ],
      "metadata": {
        "colab": {
          "base_uri": "https://localhost:8080/"
        },
        "id": "UgGG954hVRfu",
        "outputId": "06b78f16-2048-47b7-c503-2dad75a4b522"
      },
      "execution_count": null,
      "outputs": [
        {
          "output_type": "stream",
          "name": "stdout",
          "text": [
            "Cloning into 'cnpy'...\n",
            "remote: Enumerating objects: 164, done.\u001b[K\n",
            "remote: Total 164 (delta 0), reused 0 (delta 0), pack-reused 164\u001b[K\n",
            "Receiving objects: 100% (164/164), 52.32 KiB | 2.38 MiB/s, done.\n",
            "Resolving deltas: 100% (94/94), done.\n"
          ]
        }
      ]
    },
    {
      "cell_type": "code",
      "source": [
        "%cd cnpy"
      ],
      "metadata": {
        "colab": {
          "base_uri": "https://localhost:8080/"
        },
        "id": "eM_Qh1yoVWFg",
        "outputId": "9d151b88-d1b2-400a-ea07-e723ebdd1b22"
      },
      "execution_count": null,
      "outputs": [
        {
          "output_type": "stream",
          "name": "stdout",
          "text": [
            "/content/cnpy\n"
          ]
        }
      ]
    },
    {
      "cell_type": "code",
      "source": [
        "!mkdir build\n",
        "%cd build\n",
        "!cmake ..\n",
        "!make\n",
        "!make install"
      ],
      "metadata": {
        "colab": {
          "base_uri": "https://localhost:8080/"
        },
        "id": "eUtPZg2hVYCJ",
        "outputId": "2cae127c-e05e-4459-9d65-8e6eb72593f6"
      },
      "execution_count": null,
      "outputs": [
        {
          "output_type": "stream",
          "name": "stdout",
          "text": [
            "/content/cnpy/build\n",
            "-- The C compiler identification is GNU 9.4.0\n",
            "-- The CXX compiler identification is GNU 9.4.0\n",
            "-- Detecting C compiler ABI info\n",
            "-- Detecting C compiler ABI info - done\n",
            "-- Check for working C compiler: /usr/bin/cc - skipped\n",
            "-- Detecting C compile features\n",
            "-- Detecting C compile features - done\n",
            "-- Detecting CXX compiler ABI info\n",
            "-- Detecting CXX compiler ABI info - done\n",
            "-- Check for working CXX compiler: /usr/bin/c++ - skipped\n",
            "-- Detecting CXX compile features\n",
            "-- Detecting CXX compile features - done\n",
            "-- Found ZLIB: /usr/lib/x86_64-linux-gnu/libz.so (found version \"1.2.11\") \n",
            "-- Configuring done\n",
            "-- Generating done\n",
            "-- Build files have been written to: /content/cnpy/build\n",
            "[ 16%] \u001b[32mBuilding CXX object CMakeFiles/cnpy.dir/cnpy.cpp.o\u001b[0m\n",
            "[ 33%] \u001b[32m\u001b[1mLinking CXX shared library libcnpy.so\u001b[0m\n",
            "[ 33%] Built target cnpy\n",
            "[ 50%] \u001b[32mBuilding CXX object CMakeFiles/cnpy-static.dir/cnpy.cpp.o\u001b[0m\n",
            "[ 66%] \u001b[32m\u001b[1mLinking CXX static library libcnpy.a\u001b[0m\n",
            "[ 66%] Built target cnpy-static\n",
            "[ 83%] \u001b[32mBuilding CXX object CMakeFiles/example1.dir/example1.cpp.o\u001b[0m\n",
            "[100%] \u001b[32m\u001b[1mLinking CXX executable example1\u001b[0m\n",
            "[100%] Built target example1\n",
            "[ 33%] Built target cnpy\n",
            "[ 66%] Built target cnpy-static\n",
            "[100%] Built target example1\n",
            "\u001b[36mInstall the project...\u001b[0m\n",
            "-- Install configuration: \"\"\n",
            "-- Installing: /usr/local/lib/libcnpy.so\n",
            "-- Installing: /usr/local/lib/libcnpy.a\n",
            "-- Installing: /usr/local/include/cnpy.h\n",
            "-- Installing: /usr/local/bin/mat2npz\n",
            "-- Installing: /usr/local/bin/npy2mat\n",
            "-- Installing: /usr/local/bin/npz2mat\n"
          ]
        }
      ]
    },
    {
      "cell_type": "code",
      "source": [
        "from google.colab import drive\n",
        "drive.mount('/content/drive')"
      ],
      "metadata": {
        "colab": {
          "base_uri": "https://localhost:8080/"
        },
        "id": "8-Sr1xvnWp_n",
        "outputId": "b31d8f0f-ae85-4d09-822a-5773101fdde5"
      },
      "execution_count": null,
      "outputs": [
        {
          "output_type": "stream",
          "name": "stdout",
          "text": [
            "Mounted at /content/drive\n"
          ]
        }
      ]
    },
    {
      "cell_type": "code",
      "source": [
        "!cp /usr/local/lib/lib* /usr/lib/"
      ],
      "metadata": {
        "id": "7CDZkrMMKiRj"
      },
      "execution_count": null,
      "outputs": []
    },
    {
      "cell_type": "code",
      "source": [
        "!nvcc --version"
      ],
      "metadata": {
        "colab": {
          "base_uri": "https://localhost:8080/"
        },
        "id": "tulT0F4zeZcu",
        "outputId": "64b20100-4061-4905-8281-ad550f76f0e9"
      },
      "execution_count": null,
      "outputs": [
        {
          "output_type": "stream",
          "name": "stdout",
          "text": [
            "nvcc: NVIDIA (R) Cuda compiler driver\n",
            "Copyright (c) 2005-2022 NVIDIA Corporation\n",
            "Built on Wed_Sep_21_10:33:58_PDT_2022\n",
            "Cuda compilation tools, release 11.8, V11.8.89\n",
            "Build cuda_11.8.r11.8/compiler.31833905_0\n"
          ]
        }
      ]
    },
    {
      "cell_type": "code",
      "source": [
        "!pip install git+https://github.com/andreinechaev/nvcc4jupyter.git"
      ],
      "metadata": {
        "colab": {
          "base_uri": "https://localhost:8080/"
        },
        "id": "Pka8YulYhXez",
        "outputId": "e9718601-b140-48d0-8b69-ed1d56ea3e16"
      },
      "execution_count": null,
      "outputs": [
        {
          "output_type": "stream",
          "name": "stdout",
          "text": [
            "Looking in indexes: https://pypi.org/simple, https://us-python.pkg.dev/colab-wheels/public/simple/\n",
            "Collecting git+https://github.com/andreinechaev/nvcc4jupyter.git\n",
            "  Cloning https://github.com/andreinechaev/nvcc4jupyter.git to /tmp/pip-req-build-x4kvgyl3\n",
            "  Running command git clone --filter=blob:none --quiet https://github.com/andreinechaev/nvcc4jupyter.git /tmp/pip-req-build-x4kvgyl3\n",
            "  Resolved https://github.com/andreinechaev/nvcc4jupyter.git to commit aac710a35f52bb78ab34d2e52517237941399eff\n",
            "  Preparing metadata (setup.py) ... \u001b[?25l\u001b[?25hdone\n",
            "Building wheels for collected packages: NVCCPlugin\n",
            "  Building wheel for NVCCPlugin (setup.py) ... \u001b[?25l\u001b[?25hdone\n",
            "  Created wheel for NVCCPlugin: filename=NVCCPlugin-0.0.2-py3-none-any.whl size=4287 sha256=f7ca39b4c5f1aea4a825e902846a8d152fab7029a40f7fe0ef3f06c11ad09e8d\n",
            "  Stored in directory: /tmp/pip-ephem-wheel-cache-iwxywa60/wheels/a8/b9/18/23f8ef71ceb0f63297dd1903aedd067e6243a68ea756d6feea\n",
            "Successfully built NVCCPlugin\n",
            "Installing collected packages: NVCCPlugin\n",
            "Successfully installed NVCCPlugin-0.0.2\n"
          ]
        }
      ]
    },
    {
      "cell_type": "code",
      "source": [
        "%load_ext nvcc_plugin"
      ],
      "metadata": {
        "colab": {
          "base_uri": "https://localhost:8080/"
        },
        "id": "PZx2hUn9haX4",
        "outputId": "ea1300e0-a13d-4fa8-a5a1-00b5802c1684"
      },
      "execution_count": null,
      "outputs": [
        {
          "output_type": "stream",
          "name": "stdout",
          "text": [
            "created output directory at /content/cnpy/build/src\n",
            "Out bin /content/cnpy/build/result.out\n"
          ]
        }
      ]
    },
    {
      "cell_type": "code",
      "source": [
        "!gcc --version"
      ],
      "metadata": {
        "colab": {
          "base_uri": "https://localhost:8080/"
        },
        "id": "AXYsiJdDh0aX",
        "outputId": "ac8f4deb-7c33-4bd4-884f-cc7b8f449c26"
      },
      "execution_count": null,
      "outputs": [
        {
          "output_type": "stream",
          "name": "stdout",
          "text": [
            "gcc (Ubuntu 9.4.0-1ubuntu1~20.04.1) 9.4.0\n",
            "Copyright (C) 2019 Free Software Foundation, Inc.\n",
            "This is free software; see the source for copying conditions.  There is NO\n",
            "warranty; not even for MERCHANTABILITY or FITNESS FOR A PARTICULAR PURPOSE.\n",
            "\n"
          ]
        }
      ]
    },
    {
      "cell_type": "code",
      "source": [
        "!apt-cache madison gcc"
      ],
      "metadata": {
        "colab": {
          "base_uri": "https://localhost:8080/"
        },
        "id": "3OomBdHyiD_s",
        "outputId": "4c06fb5a-cc0b-4168-9360-4734b50a3f07"
      },
      "execution_count": null,
      "outputs": [
        {
          "output_type": "stream",
          "name": "stdout",
          "text": [
            "       gcc | 4:9.3.0-1ubuntu2 | http://archive.ubuntu.com/ubuntu focal/main amd64 Packages\n"
          ]
        }
      ]
    },
    {
      "cell_type": "code",
      "source": [
        "!apt-get install gcc-7 g++-7"
      ],
      "metadata": {
        "colab": {
          "base_uri": "https://localhost:8080/"
        },
        "id": "VygiWy2MiG8c",
        "outputId": "7afb53f6-a732-4521-fbb6-2dbca93bf395"
      },
      "execution_count": null,
      "outputs": [
        {
          "output_type": "stream",
          "name": "stdout",
          "text": [
            "Reading package lists... Done\n",
            "Building dependency tree       \n",
            "Reading state information... Done\n",
            "The following additional packages will be installed:\n",
            "  cpp-7 gcc-7-base gcc-8-base libasan4 libcilkrts5 libgcc-7-dev libmpx2\n",
            "  libstdc++-7-dev libubsan0\n",
            "Suggested packages:\n",
            "  gcc-7-locales g++-7-multilib gcc-7-doc gcc-7-multilib libstdc++-7-doc\n",
            "The following NEW packages will be installed:\n",
            "  cpp-7 g++-7 gcc-7 gcc-7-base gcc-8-base libasan4 libcilkrts5 libgcc-7-dev\n",
            "  libmpx2 libstdc++-7-dev libubsan0\n",
            "0 upgraded, 11 newly installed, 0 to remove and 39 not upgraded.\n",
            "Need to get 32.0 MB of archives.\n",
            "After this operation, 111 MB of additional disk space will be used.\n",
            "Get:1 http://archive.ubuntu.com/ubuntu focal/universe amd64 gcc-7-base amd64 7.5.0-6ubuntu2 [18.5 kB]\n",
            "Get:2 http://archive.ubuntu.com/ubuntu focal/universe amd64 cpp-7 amd64 7.5.0-6ubuntu2 [8,588 kB]\n",
            "Get:3 http://archive.ubuntu.com/ubuntu focal/universe amd64 libasan4 amd64 7.5.0-6ubuntu2 [358 kB]\n",
            "Get:4 http://archive.ubuntu.com/ubuntu focal/universe amd64 libubsan0 amd64 7.5.0-6ubuntu2 [126 kB]\n",
            "Get:5 http://archive.ubuntu.com/ubuntu focal/universe amd64 libcilkrts5 amd64 7.5.0-6ubuntu2 [42.7 kB]\n",
            "Get:6 http://archive.ubuntu.com/ubuntu focal/universe amd64 gcc-8-base amd64 8.4.0-3ubuntu2 [18.7 kB]\n",
            "Get:7 http://archive.ubuntu.com/ubuntu focal/universe amd64 libmpx2 amd64 8.4.0-3ubuntu2 [11.8 kB]\n",
            "Get:8 http://archive.ubuntu.com/ubuntu focal/universe amd64 libgcc-7-dev amd64 7.5.0-6ubuntu2 [2,311 kB]\n",
            "Get:9 http://archive.ubuntu.com/ubuntu focal/universe amd64 gcc-7 amd64 7.5.0-6ubuntu2 [9,381 kB]\n",
            "Get:10 http://archive.ubuntu.com/ubuntu focal/universe amd64 libstdc++-7-dev amd64 7.5.0-6ubuntu2 [1,471 kB]\n",
            "Get:11 http://archive.ubuntu.com/ubuntu focal/universe amd64 g++-7 amd64 7.5.0-6ubuntu2 [9,689 kB]\n",
            "Fetched 32.0 MB in 2s (15.8 MB/s)\n",
            "Selecting previously unselected package gcc-7-base:amd64.\n",
            "(Reading database ... 123103 files and directories currently installed.)\n",
            "Preparing to unpack .../00-gcc-7-base_7.5.0-6ubuntu2_amd64.deb ...\n",
            "Unpacking gcc-7-base:amd64 (7.5.0-6ubuntu2) ...\n",
            "Selecting previously unselected package cpp-7.\n",
            "Preparing to unpack .../01-cpp-7_7.5.0-6ubuntu2_amd64.deb ...\n",
            "Unpacking cpp-7 (7.5.0-6ubuntu2) ...\n",
            "Selecting previously unselected package libasan4:amd64.\n",
            "Preparing to unpack .../02-libasan4_7.5.0-6ubuntu2_amd64.deb ...\n",
            "Unpacking libasan4:amd64 (7.5.0-6ubuntu2) ...\n",
            "Selecting previously unselected package libubsan0:amd64.\n",
            "Preparing to unpack .../03-libubsan0_7.5.0-6ubuntu2_amd64.deb ...\n",
            "Unpacking libubsan0:amd64 (7.5.0-6ubuntu2) ...\n",
            "Selecting previously unselected package libcilkrts5:amd64.\n",
            "Preparing to unpack .../04-libcilkrts5_7.5.0-6ubuntu2_amd64.deb ...\n",
            "Unpacking libcilkrts5:amd64 (7.5.0-6ubuntu2) ...\n",
            "Selecting previously unselected package gcc-8-base:amd64.\n",
            "Preparing to unpack .../05-gcc-8-base_8.4.0-3ubuntu2_amd64.deb ...\n",
            "Unpacking gcc-8-base:amd64 (8.4.0-3ubuntu2) ...\n",
            "Selecting previously unselected package libmpx2:amd64.\n",
            "Preparing to unpack .../06-libmpx2_8.4.0-3ubuntu2_amd64.deb ...\n",
            "Unpacking libmpx2:amd64 (8.4.0-3ubuntu2) ...\n",
            "Selecting previously unselected package libgcc-7-dev:amd64.\n",
            "Preparing to unpack .../07-libgcc-7-dev_7.5.0-6ubuntu2_amd64.deb ...\n",
            "Unpacking libgcc-7-dev:amd64 (7.5.0-6ubuntu2) ...\n",
            "Selecting previously unselected package gcc-7.\n",
            "Preparing to unpack .../08-gcc-7_7.5.0-6ubuntu2_amd64.deb ...\n",
            "Unpacking gcc-7 (7.5.0-6ubuntu2) ...\n",
            "Selecting previously unselected package libstdc++-7-dev:amd64.\n",
            "Preparing to unpack .../09-libstdc++-7-dev_7.5.0-6ubuntu2_amd64.deb ...\n",
            "Unpacking libstdc++-7-dev:amd64 (7.5.0-6ubuntu2) ...\n",
            "Selecting previously unselected package g++-7.\n",
            "Preparing to unpack .../10-g++-7_7.5.0-6ubuntu2_amd64.deb ...\n",
            "Unpacking g++-7 (7.5.0-6ubuntu2) ...\n",
            "Setting up gcc-7-base:amd64 (7.5.0-6ubuntu2) ...\n",
            "Setting up libasan4:amd64 (7.5.0-6ubuntu2) ...\n",
            "Setting up gcc-8-base:amd64 (8.4.0-3ubuntu2) ...\n",
            "Setting up libmpx2:amd64 (8.4.0-3ubuntu2) ...\n",
            "Setting up libcilkrts5:amd64 (7.5.0-6ubuntu2) ...\n",
            "Setting up libubsan0:amd64 (7.5.0-6ubuntu2) ...\n",
            "Setting up cpp-7 (7.5.0-6ubuntu2) ...\n",
            "Setting up libgcc-7-dev:amd64 (7.5.0-6ubuntu2) ...\n",
            "Setting up libstdc++-7-dev:amd64 (7.5.0-6ubuntu2) ...\n",
            "Setting up gcc-7 (7.5.0-6ubuntu2) ...\n",
            "Setting up g++-7 (7.5.0-6ubuntu2) ...\n",
            "Processing triggers for libc-bin (2.31-0ubuntu9.9) ...\n",
            "Processing triggers for man-db (2.9.1-1) ...\n"
          ]
        }
      ]
    },
    {
      "cell_type": "code",
      "source": [
        "!update-alternatives --install /usr/bin/gcc gcc /usr/bin/gcc-7 50\n",
        "!update-alternatives --install /usr/bin/g++ g++ /usr/bin/g++-7 50"
      ],
      "metadata": {
        "colab": {
          "base_uri": "https://localhost:8080/"
        },
        "id": "tsEnlTfJiLn4",
        "outputId": "fe5563e5-006a-49b0-f250-bfa3f9236606"
      },
      "execution_count": null,
      "outputs": [
        {
          "output_type": "stream",
          "name": "stdout",
          "text": [
            "update-alternatives: using /usr/bin/gcc-7 to provide /usr/bin/gcc (gcc) in auto mode\n",
            "update-alternatives: using /usr/bin/g++-7 to provide /usr/bin/g++ (g++) in auto mode\n"
          ]
        }
      ]
    },
    {
      "cell_type": "code",
      "source": [
        "!gcc --version"
      ],
      "metadata": {
        "colab": {
          "base_uri": "https://localhost:8080/"
        },
        "id": "aUy3w_9-iPDs",
        "outputId": "45446ce7-69ae-4b0a-8cec-c5766444e8f3"
      },
      "execution_count": null,
      "outputs": [
        {
          "output_type": "stream",
          "name": "stdout",
          "text": [
            "gcc (Ubuntu 7.5.0-6ubuntu2) 7.5.0\n",
            "Copyright (C) 2017 Free Software Foundation, Inc.\n",
            "This is free software; see the source for copying conditions.  There is NO\n",
            "warranty; not even for MERCHANTABILITY or FITNESS FOR A PARTICULAR PURPOSE.\n",
            "\n"
          ]
        }
      ]
    },
    {
      "cell_type": "code",
      "source": [
        "!g++ --version"
      ],
      "metadata": {
        "colab": {
          "base_uri": "https://localhost:8080/"
        },
        "id": "kP4NL2tsiXY_",
        "outputId": "693dc9d8-1806-41e8-9543-b16147275c59"
      },
      "execution_count": null,
      "outputs": [
        {
          "output_type": "stream",
          "name": "stdout",
          "text": [
            "g++ (Ubuntu 7.5.0-6ubuntu2) 7.5.0\n",
            "Copyright (C) 2017 Free Software Foundation, Inc.\n",
            "This is free software; see the source for copying conditions.  There is NO\n",
            "warranty; not even for MERCHANTABILITY or FITNESS FOR A PARTICULAR PURPOSE.\n",
            "\n"
          ]
        }
      ]
    },
    {
      "cell_type": "code",
      "source": [
        "%env OMP_NUM_THREADS=16"
      ],
      "metadata": {
        "colab": {
          "base_uri": "https://localhost:8080/"
        },
        "id": "7DlQrt7nc66Y",
        "outputId": "86b0216f-ddb8-49d1-e3bf-69de017dd2b8"
      },
      "execution_count": null,
      "outputs": [
        {
          "output_type": "stream",
          "name": "stdout",
          "text": [
            "env: OMP_NUM_THREADS=16\n"
          ]
        }
      ]
    },
    {
      "cell_type": "code",
      "source": [
        "!cat /proc/sys/kernel/threads-max"
      ],
      "metadata": {
        "colab": {
          "base_uri": "https://localhost:8080/"
        },
        "id": "iGwYEsbyg4t_",
        "outputId": "badcd769-3b76-4c36-e09e-6e6497c5eff9"
      },
      "execution_count": null,
      "outputs": [
        {
          "output_type": "stream",
          "name": "stdout",
          "text": [
            "208447\n"
          ]
        }
      ]
    },
    {
      "cell_type": "markdown",
      "source": [
        "## Dynamic Time Warping Calculation\n",
        "\n"
      ],
      "metadata": {
        "id": "PFaOYzo2vbw2"
      }
    },
    {
      "cell_type": "code",
      "source": [
        "%%writefile wow.cpp\n",
        "#include <iostream>\n",
        "#include <vector>\n",
        "#include <cmath>\n",
        "#include <cnpy.h> // Library for loading NPZ file\n",
        "#include <fstream>\n",
        "#include <omp.h>\n",
        "\n",
        "float dtw_distance(const std::vector<std::vector<float>>& s1, const std::vector<std::vector<float>>& s2) {\n",
        "    int n = s1.size();\n",
        "    int m = s2.size();\n",
        "    std::vector<std::vector<float>> dtw(n + 1, std::vector<float>(m + 1, 0.0));\n",
        "\n",
        "    for (int i = 1; i <= n; ++i) {\n",
        "        for (int j = 1; j <= m; ++j) {\n",
        "            float cost = 0.0;\n",
        "            for (int k = 0; k < 41; ++k) {\n",
        "                for (int l = 0; l < 41; ++l) {\n",
        "                    float diff = s1[i - 1][k * 41 + l] - s2[j - 1][k * 41 + l];\n",
        "                    cost += diff * diff;\n",
        "                }\n",
        "            }\n",
        "            cost = std::sqrt(cost);\n",
        "            float min_value = std::min(dtw[i - 1][j], dtw[i][j - 1]);\n",
        "            min_value = std::min(min_value, dtw[i - 1][j - 1]);\n",
        "            dtw[i][j] = cost + min_value;\n",
        "        }\n",
        "    }\n",
        "\n",
        "    return dtw[n][m];\n",
        "}\n",
        "\n",
        "int main() {\n",
        "    // Load the data from the NPZ file\n",
        "    cnpy::npz_t npz = cnpy::npz_load(\"/content/drive/MyDrive/source/X_train_surge_new.npz\");\n",
        "    cnpy::NpyArray arr = npz[\"slp\"];\n",
        "\n",
        "    float* data = arr.data<float>();\n",
        "    int numSequences = arr.shape[0];\n",
        "    std::cout << numSequences << std::endl;\n",
        "    int sequenceLength = arr.shape[1];\n",
        "    std::cout << sequenceLength << std::endl;\n",
        "    std::vector<std::vector<std::vector<float>>> sequences(numSequences, std::vector<std::vector<float>>(sequenceLength, std::vector<float>(41 * 41, 0.0)));\n",
        "\n",
        "    // Assign the data from the npz array to sequences\n",
        "    #pragma omp parallel for\n",
        "    for (int i = 0; i < numSequences; ++i) {\n",
        "        for (int j = 0; j < sequenceLength; ++j) {\n",
        "            for (int k = 0; k < 41; ++k) {\n",
        "                for (int l = 0; l < 41; ++l) {\n",
        "                    sequences[i][j][k * 41 + l] = data[i * sequenceLength * 41 * 41 + j * 41 * 41 + k * 41 + l];\n",
        "                }\n",
        "            }\n",
        "        }\n",
        "    }\n",
        "    std::vector<std::vector<float>> results(numSequences, std::vector<float>(numSequences, 0.0));\n",
        "\n",
        "    int numThreads = omp_get_max_threads();\n",
        "    std::vector<std::ofstream> outputFiles(numThreads);\n",
        "    for (int threadId = 0; threadId < numThreads; ++threadId) {\n",
        "        std::string filename = \"/content/drive/MyDrive/output/similarity_scores\" + std::to_string(threadId) + \".csv\";\n",
        "        outputFiles[threadId].open(filename);\n",
        "        outputFiles[threadId] << \"Sequence1,Sequence2,DTW_Similarity\\n\";\n",
        "    }\n",
        "\n",
        "    #pragma omp parallel num_threads(numThreads)\n",
        "    {\n",
        "        int threadId = omp_get_thread_num();\n",
        "        std::ofstream& outputFile = outputFiles[threadId];\n",
        "\n",
        "        #pragma omp for schedule(dynamic)\n",
        "        for (int i = 0; i < numSequences; ++i) {\n",
        "            for (int j = i + 1; j < numSequences; ++j) {\n",
        "                float dtw = dtw_distance(sequences[i], sequences[j]);\n",
        "                #pragma omp critical\n",
        "                {\n",
        "                    results[i][j] = dtw;\n",
        "                    results[j][i] = dtw;\n",
        "                }\n",
        "                #pragma omp critical(write)\n",
        "                {\n",
        "                    outputFile << i << \",\" << j << \",\" << dtw << \"\\n\";\n",
        "                }\n",
        "            }\n",
        "        }\n",
        "\n",
        "        outputFile.close();\n",
        "    }\n",
        "\n",
        "    return 0;\n",
        "}"
      ],
      "metadata": {
        "id": "3-eDbI_blQfm"
      },
      "execution_count": null,
      "outputs": []
    },
    {
      "cell_type": "code",
      "source": [
        "!nvcc -Xcompiler=\"-fopenmp\" -o dtw_distance dtw_distance.cpp -std=c++11 -I/usr/include/eigen3 -L/content/cnpy/build/ -lcnpy"
      ],
      "metadata": {
        "id": "jszpzGE6lXKW"
      },
      "execution_count": null,
      "outputs": []
    },
    {
      "cell_type": "code",
      "source": [
        "! ./dtw_distance"
      ],
      "metadata": {
        "id": "UjYb0WHdlZyT"
      },
      "execution_count": null,
      "outputs": []
    }
  ]
}